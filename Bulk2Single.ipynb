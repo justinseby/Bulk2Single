{
 "cells": [
  {
   "cell_type": "raw",
   "id": "364f3b6d-64a4-440a-8115-8c628dcf5d14",
   "metadata": {
    "scrolled": true
   },
   "source": [
    "%pip install scanpy\n",
    "print(\"Scanpy installed successfully.\")"
   ]
  },
  {
   "cell_type": "code",
   "execution_count": 1,
   "id": "81519525-3c4c-4b8f-b33c-353be22ac16e",
   "metadata": {},
   "outputs": [],
   "source": [
    "import os\n",
    "import pandas as pd\n",
    "import scanpy as sc"
   ]
  },
  {
   "cell_type": "code",
   "execution_count": 3,
   "id": "53d0be22-b84e-4a8c-a6f5-04e5d1060e5d",
   "metadata": {
    "scrolled": true
   },
   "outputs": [
    {
     "name": "stdout",
     "output_type": "stream",
     "text": [
      "Defaulting to user installation because normal site-packages is not writeable\n",
      "Requirement already satisfied: scaden in /Users/justinseby/Library/Python/3.9/lib/python/site-packages (1.1.2)\n",
      "Requirement already satisfied: pandas in /Users/justinseby/Library/Python/3.9/lib/python/site-packages (from scaden) (2.2.3)\n",
      "Requirement already satisfied: numpy in /Users/justinseby/Library/Python/3.9/lib/python/site-packages (from scaden) (1.26.4)\n",
      "Requirement already satisfied: scikit-learn in /Users/justinseby/Library/Python/3.9/lib/python/site-packages (from scaden) (1.5.2)\n",
      "Requirement already satisfied: tensorflow>=2.0 in /Users/justinseby/Library/Python/3.9/lib/python/site-packages (from scaden) (2.17.0)\n",
      "Requirement already satisfied: anndata in /Users/justinseby/Library/Python/3.9/lib/python/site-packages (from scaden) (0.10.9)\n",
      "Requirement already satisfied: click in /Users/justinseby/Library/Python/3.9/lib/python/site-packages (from scaden) (8.1.7)\n",
      "Requirement already satisfied: h5py in /Users/justinseby/Library/Python/3.9/lib/python/site-packages (from scaden) (3.11.0)\n",
      "Requirement already satisfied: rich in /Users/justinseby/Library/Python/3.9/lib/python/site-packages (from scaden) (13.8.1)\n",
      "Requirement already satisfied: absl-py>=1.0.0 in /Users/justinseby/Library/Python/3.9/lib/python/site-packages (from tensorflow>=2.0->scaden) (2.1.0)\n",
      "Requirement already satisfied: astunparse>=1.6.0 in /Users/justinseby/Library/Python/3.9/lib/python/site-packages (from tensorflow>=2.0->scaden) (1.6.3)\n",
      "Requirement already satisfied: flatbuffers>=24.3.25 in /Users/justinseby/Library/Python/3.9/lib/python/site-packages (from tensorflow>=2.0->scaden) (24.3.25)\n",
      "Requirement already satisfied: gast!=0.5.0,!=0.5.1,!=0.5.2,>=0.2.1 in /Users/justinseby/Library/Python/3.9/lib/python/site-packages (from tensorflow>=2.0->scaden) (0.6.0)\n",
      "Requirement already satisfied: google-pasta>=0.1.1 in /Users/justinseby/Library/Python/3.9/lib/python/site-packages (from tensorflow>=2.0->scaden) (0.2.0)\n",
      "Requirement already satisfied: libclang>=13.0.0 in /Users/justinseby/Library/Python/3.9/lib/python/site-packages (from tensorflow>=2.0->scaden) (18.1.1)\n",
      "Requirement already satisfied: ml-dtypes<0.5.0,>=0.3.1 in /Users/justinseby/Library/Python/3.9/lib/python/site-packages (from tensorflow>=2.0->scaden) (0.4.1)\n",
      "Requirement already satisfied: opt-einsum>=2.3.2 in /Users/justinseby/Library/Python/3.9/lib/python/site-packages (from tensorflow>=2.0->scaden) (3.3.0)\n",
      "Requirement already satisfied: packaging in /Users/justinseby/Library/Python/3.9/lib/python/site-packages (from tensorflow>=2.0->scaden) (24.1)\n",
      "Requirement already satisfied: protobuf!=4.21.0,!=4.21.1,!=4.21.2,!=4.21.3,!=4.21.4,!=4.21.5,<5.0.0dev,>=3.20.3 in /Users/justinseby/Library/Python/3.9/lib/python/site-packages (from tensorflow>=2.0->scaden) (4.25.5)\n",
      "Requirement already satisfied: requests<3,>=2.21.0 in /Users/justinseby/Library/Python/3.9/lib/python/site-packages (from tensorflow>=2.0->scaden) (2.32.3)\n",
      "Requirement already satisfied: setuptools in /Library/Developer/CommandLineTools/Library/Frameworks/Python3.framework/Versions/3.9/lib/python3.9/site-packages (from tensorflow>=2.0->scaden) (58.0.4)\n",
      "Requirement already satisfied: six>=1.12.0 in /Library/Developer/CommandLineTools/Library/Frameworks/Python3.framework/Versions/3.9/lib/python3.9/site-packages (from tensorflow>=2.0->scaden) (1.15.0)\n",
      "Requirement already satisfied: termcolor>=1.1.0 in /Users/justinseby/Library/Python/3.9/lib/python/site-packages (from tensorflow>=2.0->scaden) (2.4.0)\n",
      "Requirement already satisfied: typing-extensions>=3.6.6 in /Users/justinseby/Library/Python/3.9/lib/python/site-packages (from tensorflow>=2.0->scaden) (4.12.2)\n",
      "Requirement already satisfied: wrapt>=1.11.0 in /Users/justinseby/Library/Python/3.9/lib/python/site-packages (from tensorflow>=2.0->scaden) (1.16.0)\n",
      "Requirement already satisfied: grpcio<2.0,>=1.24.3 in /Users/justinseby/Library/Python/3.9/lib/python/site-packages (from tensorflow>=2.0->scaden) (1.66.1)\n",
      "Requirement already satisfied: tensorboard<2.18,>=2.17 in /Users/justinseby/Library/Python/3.9/lib/python/site-packages (from tensorflow>=2.0->scaden) (2.17.1)\n",
      "Requirement already satisfied: keras>=3.2.0 in /Users/justinseby/Library/Python/3.9/lib/python/site-packages (from tensorflow>=2.0->scaden) (3.5.0)\n",
      "Requirement already satisfied: tensorflow-io-gcs-filesystem>=0.23.1 in /Users/justinseby/Library/Python/3.9/lib/python/site-packages (from tensorflow>=2.0->scaden) (0.37.1)\n",
      "Requirement already satisfied: array-api-compat!=1.5,>1.4 in /Users/justinseby/Library/Python/3.9/lib/python/site-packages (from anndata->scaden) (1.8)\n",
      "Requirement already satisfied: exceptiongroup in /Users/justinseby/Library/Python/3.9/lib/python/site-packages (from anndata->scaden) (1.2.2)\n",
      "Requirement already satisfied: natsort in /Users/justinseby/Library/Python/3.9/lib/python/site-packages (from anndata->scaden) (8.4.0)\n",
      "Requirement already satisfied: scipy>1.8 in /Users/justinseby/Library/Python/3.9/lib/python/site-packages (from anndata->scaden) (1.13.1)\n",
      "Requirement already satisfied: python-dateutil>=2.8.2 in /Users/justinseby/Library/Python/3.9/lib/python/site-packages (from pandas->scaden) (2.9.0.post0)\n",
      "Requirement already satisfied: pytz>=2020.1 in /Users/justinseby/Library/Python/3.9/lib/python/site-packages (from pandas->scaden) (2024.2)\n",
      "Requirement already satisfied: tzdata>=2022.7 in /Users/justinseby/Library/Python/3.9/lib/python/site-packages (from pandas->scaden) (2024.1)\n",
      "Requirement already satisfied: markdown-it-py>=2.2.0 in /Users/justinseby/Library/Python/3.9/lib/python/site-packages (from rich->scaden) (3.0.0)\n",
      "Requirement already satisfied: pygments<3.0.0,>=2.13.0 in /Users/justinseby/Library/Python/3.9/lib/python/site-packages (from rich->scaden) (2.18.0)\n",
      "Requirement already satisfied: joblib>=1.2.0 in /Users/justinseby/Library/Python/3.9/lib/python/site-packages (from scikit-learn->scaden) (1.4.2)\n",
      "Requirement already satisfied: threadpoolctl>=3.1.0 in /Users/justinseby/Library/Python/3.9/lib/python/site-packages (from scikit-learn->scaden) (3.5.0)\n",
      "Requirement already satisfied: wheel<1.0,>=0.23.0 in /Library/Developer/CommandLineTools/Library/Frameworks/Python3.framework/Versions/3.9/lib/python3.9/site-packages (from astunparse>=1.6.0->tensorflow>=2.0->scaden) (0.37.0)\n",
      "Requirement already satisfied: namex in /Users/justinseby/Library/Python/3.9/lib/python/site-packages (from keras>=3.2.0->tensorflow>=2.0->scaden) (0.0.8)\n",
      "Requirement already satisfied: optree in /Users/justinseby/Library/Python/3.9/lib/python/site-packages (from keras>=3.2.0->tensorflow>=2.0->scaden) (0.12.1)\n",
      "Requirement already satisfied: mdurl~=0.1 in /Users/justinseby/Library/Python/3.9/lib/python/site-packages (from markdown-it-py>=2.2.0->rich->scaden) (0.1.2)\n",
      "Requirement already satisfied: charset-normalizer<4,>=2 in /Users/justinseby/Library/Python/3.9/lib/python/site-packages (from requests<3,>=2.21.0->tensorflow>=2.0->scaden) (3.3.2)\n",
      "Requirement already satisfied: idna<4,>=2.5 in /Users/justinseby/Library/Python/3.9/lib/python/site-packages (from requests<3,>=2.21.0->tensorflow>=2.0->scaden) (3.10)\n",
      "Requirement already satisfied: urllib3<3,>=1.21.1 in /Users/justinseby/Library/Python/3.9/lib/python/site-packages (from requests<3,>=2.21.0->tensorflow>=2.0->scaden) (2.2.3)\n",
      "Requirement already satisfied: certifi>=2017.4.17 in /Users/justinseby/Library/Python/3.9/lib/python/site-packages (from requests<3,>=2.21.0->tensorflow>=2.0->scaden) (2024.8.30)\n",
      "Requirement already satisfied: markdown>=2.6.8 in /Users/justinseby/Library/Python/3.9/lib/python/site-packages (from tensorboard<2.18,>=2.17->tensorflow>=2.0->scaden) (3.7)\n",
      "Requirement already satisfied: tensorboard-data-server<0.8.0,>=0.7.0 in /Users/justinseby/Library/Python/3.9/lib/python/site-packages (from tensorboard<2.18,>=2.17->tensorflow>=2.0->scaden) (0.7.2)\n",
      "Requirement already satisfied: werkzeug>=1.0.1 in /Users/justinseby/Library/Python/3.9/lib/python/site-packages (from tensorboard<2.18,>=2.17->tensorflow>=2.0->scaden) (3.0.4)\n",
      "Requirement already satisfied: importlib-metadata>=4.4 in /Users/justinseby/Library/Python/3.9/lib/python/site-packages (from markdown>=2.6.8->tensorboard<2.18,>=2.17->tensorflow>=2.0->scaden) (8.5.0)\n",
      "Requirement already satisfied: MarkupSafe>=2.1.1 in /Users/justinseby/Library/Python/3.9/lib/python/site-packages (from werkzeug>=1.0.1->tensorboard<2.18,>=2.17->tensorflow>=2.0->scaden) (2.1.5)\n",
      "Requirement already satisfied: zipp>=3.20 in /Users/justinseby/Library/Python/3.9/lib/python/site-packages (from importlib-metadata>=4.4->markdown>=2.6.8->tensorboard<2.18,>=2.17->tensorflow>=2.0->scaden) (3.20.2)\n",
      "Note: you may need to restart the kernel to use updated packages.\n"
     ]
    }
   ],
   "source": [
    "%pip install scaden"
   ]
  },
  {
   "cell_type": "code",
   "execution_count": 4,
   "id": "91af3af0-d6e5-4a2f-b442-91f6fba31ce3",
   "metadata": {},
   "outputs": [],
   "source": [
    "import scaden"
   ]
  },
  {
   "cell_type": "code",
   "execution_count": 5,
   "id": "5880abad-a70f-4d7e-a518-68be70bd00b5",
   "metadata": {},
   "outputs": [
    {
     "name": "stderr",
     "output_type": "stream",
     "text": [
      "/Users/justinseby/Library/Python/3.9/lib/python/site-packages/urllib3/__init__.py:35: NotOpenSSLWarning: urllib3 v2 only supports OpenSSL 1.1.1+, currently the 'ssl' module is compiled with 'LibreSSL 2.8.3'. See: https://github.com/urllib3/urllib3/issues/3020\n",
      "  warnings.warn(\n"
     ]
    }
   ],
   "source": [
    "import tensorflow as tf\n",
    "from anndata import read_h5ad\n",
    "from scaden.model.functions import get_signature_genes, preprocess_h5ad_data"
   ]
  },
  {
   "cell_type": "code",
   "execution_count": 7,
   "id": "e6b67a76-5e27-4893-94b0-f06979dc3da4",
   "metadata": {},
   "outputs": [],
   "source": [
    "import anndata as ad\n",
    "\n",
    "adata = ad.read_h5ad(r\"pbmc_data.h5ad\")"
   ]
  },
  {
   "cell_type": "code",
   "execution_count": 8,
   "id": "41231595-1e6c-4e30-8135-01faa6dc55f6",
   "metadata": {},
   "outputs": [
    {
     "name": "stdout",
     "output_type": "stream",
     "text": [
      "Index(['A1BG', 'A1BG-AS1', 'A2M-AS1', 'AAAS', 'AACS', 'AAED1', 'AAGAB', 'AAK1',\n",
      "       'AAMDC', 'AAMP',\n",
      "       ...\n",
      "       'ZW10', 'ZWILCH', 'ZWINT', 'ZXDA', 'ZXDB', 'ZXDC', 'ZYG11B', 'ZYX',\n",
      "       'ZZEF1', 'ZZZ3'],\n",
      "      dtype='object', name='index', length=11328)\n"
     ]
    }
   ],
   "source": [
    "print(adata.var_names)"
   ]
  },
  {
   "cell_type": "code",
   "execution_count": 9,
   "id": "c9bcc56d-898d-4888-b2ed-c6aec5adacc5",
   "metadata": {},
   "outputs": [
    {
     "name": "stdout",
     "output_type": "stream",
     "text": [
      "Index(['A1BG', 'A1BG-AS1', 'A2M-AS1', 'AAAS', 'AACS', 'AAED1', 'AAGAB', 'AAK1',\n",
      "       'AAMDC', 'AAMP', 'AAR2', 'AARS', 'AARS2', 'AARSD1', 'AASDH', 'AASDHPPT',\n",
      "       'AATF', 'ABAT', 'ABCA2', 'ABCA3', 'ABCA5', 'ABCA7', 'ABCB1', 'ABCB10',\n",
      "       'ABCB4', 'ABCB7', 'ABCB8', 'ABCB9', 'ABCC1', 'ABCC10', 'ABCC3', 'ABCC4',\n",
      "       'ABCC5', 'ABCD1', 'ABCD2', 'ABCD3', 'ABCD4', 'ABCE1', 'ABCF1', 'ABCF2',\n",
      "       'ABCF3', 'ABCG1', 'ABHD10', 'ABHD11', 'ABHD12', 'ABHD13', 'ABHD14A',\n",
      "       'ABHD14B', 'ABHD15', 'ABHD16A'],\n",
      "      dtype='object', name='index')\n"
     ]
    }
   ],
   "source": [
    "print(adata.var_names[:50])"
   ]
  },
  {
   "cell_type": "code",
   "execution_count": 11,
   "id": "7fa32ab7-5585-4f82-abe6-be2a1ce48ef3",
   "metadata": {},
   "outputs": [
    {
     "name": "stdout",
     "output_type": "stream",
     "text": [
      "/Users/justinseby/Library/Python/3.9/lib/python/site-packages/urllib3/__init__.py:35: NotOpenSSLWarning: urllib3 v2 only supports OpenSSL 1.1.1+, currently the 'ssl' module is compiled with 'LibreSSL 2.8.3'. See: https://github.com/urllib3/urllib3/issues/3020\n",
      "  warnings.warn(\n",
      "\u001b[34m\n",
      "     ____                _            \n",
      "    / ___|  ___ __ _  __| | ___ _ __  \n",
      "    \\___ \\ / __/ _` |/ _` |/ _ \\ '_ \\ \n",
      "     ___) | (_| (_| | (_| |  __/ | | |\n",
      "    |____/ \\___\\__,_|\\__,_|\\___|_| |_|\n",
      "\n",
      "    \u001b[0m\n",
      "\u001b[34mINFO    \u001b[0m Found \u001b[1;36m9975\u001b[0m common genes.                                \u001b]8;id=959910;file:///Users/justinseby/Library/Python/3.9/lib/python/site-packages/scaden/model/functions.py\u001b\\\u001b[2mfunctions.py\u001b[0m\u001b]8;;\u001b\\\u001b[2m:\u001b[0m\u001b]8;id=896510;file:///Users/justinseby/Library/Python/3.9/lib/python/site-packages/scaden/model/functions.py#88\u001b\\\u001b[2m88\u001b[0m\u001b]8;;\u001b\\\n",
      "\u001b[34mINFO    \u001b[0m Pre-processing raw data \u001b[33m...\u001b[0m                             \u001b]8;id=455232;file:///Users/justinseby/Library/Python/3.9/lib/python/site-packages/scaden/model/functions.py\u001b\\\u001b[2mfunctions.py\u001b[0m\u001b]8;;\u001b\\\u001b[2m:\u001b[0m\u001b]8;id=138239;file:///Users/justinseby/Library/Python/3.9/lib/python/site-packages/scaden/model/functions.py#58\u001b\\\u001b[2m58\u001b[0m\u001b]8;;\u001b\\\n",
      "\u001b[34mINFO    \u001b[0m Subsetting genes \u001b[33m...\u001b[0m                                    \u001b]8;id=615872;file:///Users/justinseby/Library/Python/3.9/lib/python/site-packages/scaden/model/functions.py\u001b\\\u001b[2mfunctions.py\u001b[0m\u001b]8;;\u001b\\\u001b[2m:\u001b[0m\u001b]8;id=163233;file:///Users/justinseby/Library/Python/3.9/lib/python/site-packages/scaden/model/functions.py#61\u001b\\\u001b[2m61\u001b[0m\u001b]8;;\u001b\\\n",
      "\u001b[34mINFO    \u001b[0m Scaling using log_min_max                               \u001b]8;id=567531;file:///Users/justinseby/Library/Python/3.9/lib/python/site-packages/scaden/model/functions.py\u001b\\\u001b[2mfunctions.py\u001b[0m\u001b]8;;\u001b\\\u001b[2m:\u001b[0m\u001b]8;id=562017;file:///Users/justinseby/Library/Python/3.9/lib/python/site-packages/scaden/model/functions.py#65\u001b\\\u001b[2m65\u001b[0m\u001b]8;;\u001b\\\n",
      "\u001b[34mINFO    \u001b[0m Writing to disk \u001b[33m...\u001b[0m                                     \u001b]8;id=880343;file:///Users/justinseby/Library/Python/3.9/lib/python/site-packages/scaden/model/functions.py\u001b\\\u001b[2mfunctions.py\u001b[0m\u001b]8;;\u001b\\\u001b[2m:\u001b[0m\u001b]8;id=949606;file:///Users/justinseby/Library/Python/3.9/lib/python/site-packages/scaden/model/functions.py#69\u001b\\\u001b[2m69\u001b[0m\u001b]8;;\u001b\\\n",
      "\u001b[34mINFO    \u001b[0m Data pre-processing done.                               \u001b]8;id=451064;file:///Users/justinseby/Library/Python/3.9/lib/python/site-packages/scaden/model/functions.py\u001b\\\u001b[2mfunctions.py\u001b[0m\u001b]8;;\u001b\\\u001b[2m:\u001b[0m\u001b]8;id=288630;file:///Users/justinseby/Library/Python/3.9/lib/python/site-packages/scaden/model/functions.py#71\u001b\\\u001b[2m71\u001b[0m\u001b]8;;\u001b\\\n",
      "\u001b[34mINFO    \u001b[0m Created processed file: \u001b[36mprocessed.h5ad\u001b[0m                  \u001b]8;id=265046;file:///Users/justinseby/Library/Python/3.9/lib/python/site-packages/scaden/model/functions.py\u001b\\\u001b[2mfunctions.py\u001b[0m\u001b]8;;\u001b\\\u001b[2m:\u001b[0m\u001b]8;id=18904;file:///Users/justinseby/Library/Python/3.9/lib/python/site-packages/scaden/model/functions.py#72\u001b\\\u001b[2m72\u001b[0m\u001b]8;;\u001b\\\n"
     ]
    }
   ],
   "source": [
    "!scaden process \"pbmc_data.h5ad\" \"processed_PDAC_normalweight_TPM.txt\""
   ]
  },
  {
   "cell_type": "code",
   "execution_count": 20,
   "id": "9f226dfb-2f40-45c6-bc78-f2849ddb78f8",
   "metadata": {},
   "outputs": [
    {
     "name": "stdout",
     "output_type": "stream",
     "text": [
      "/Users/justinseby/Library/Python/3.9/lib/python/site-packages/urllib3/__init__.py:35: NotOpenSSLWarning: urllib3 v2 only supports OpenSSL 1.1.1+, currently the 'ssl' module is compiled with 'LibreSSL 2.8.3'. See: https://github.com/urllib3/urllib3/issues/3020\n",
      "  warnings.warn(\n",
      "\u001b[34m\n",
      "     ____                _            \n",
      "    / ___|  ___ __ _  __| | ___ _ __  \n",
      "    \\___ \\ / __/ _` |/ _` |/ _ \\ '_ \\ \n",
      "     ___) | (_| (_| | (_| |  __/ | | |\n",
      "    |____/ \\___\\__,_|\\__,_|\\___|_| |_|\n",
      "\n",
      "    \u001b[0m\n",
      "\u001b[34mINFO    \u001b[0m \u001b[36mTraining M256 Model \u001b[0m\u001b[33m...\u001b[0m\u001b[36m \u001b[0m                                    \u001b]8;id=735451;file:///Users/justinseby/Library/Python/3.9/lib/python/site-packages/scaden/train.py\u001b\\\u001b[2mtrain.py\u001b[0m\u001b]8;;\u001b\\\u001b[2m:\u001b[0m\u001b]8;id=387404;file:///Users/justinseby/Library/Python/3.9/lib/python/site-packages/scaden/train.py#54\u001b\\\u001b[2m54\u001b[0m\u001b]8;;\u001b\\\n",
      "\u001b[2K\u001b[1;34mm256\u001b[0m \u001b[1;36mStep: 4999, Loss: 0.0009\u001b[0m \u001b[38;2;114;156;31m━━━━━━━━━━━━━━━━━━━━━━━━━━━━━━━━━━━━━━━━━━━━━━━━━━\u001b[0m[38;2;249;38;114m╸\u001b[0m[38;5;237m━\u001b[0m\n",
      "\u001b[?25h\u001b[34mINFO    \u001b[0m \u001b[36mTraining M512 Model \u001b[0m\u001b[33m...\u001b[0m\u001b[36m \u001b[0m                                    \u001b]8;id=75084;file:///Users/justinseby/Library/Python/3.9/lib/python/site-packages/scaden/train.py\u001b\\\u001b[2mtrain.py\u001b[0m\u001b]8;;\u001b\\\u001b[2m:\u001b[0m\u001b]8;id=36022;file:///Users/justinseby/Library/Python/3.9/lib/python/site-packages/scaden/train.py#69\u001b\\\u001b[2m69\u001b[0m\u001b]8;;\u001b\\\n",
      "\u001b[2K\u001b[1;34mm512\u001b[0m \u001b[1;36mStep: 4999, Loss: 0.0017\u001b[0m \u001b[38;2;114;156;31m━━━━━━━━━━━━━━━━━━━━━━━━━━━━━━━━━━━━━━━━━━━━━━━━━━\u001b[0m[38;2;249;38;114m╸\u001b[0m[38;5;237m━\u001b[0m\n",
      "\u001b[?25h\u001b[34mINFO    \u001b[0m \u001b[36mTraining M1024 Model \u001b[0m\u001b[33m...\u001b[0m\u001b[36m \u001b[0m                                   \u001b]8;id=4700;file:///Users/justinseby/Library/Python/3.9/lib/python/site-packages/scaden/train.py\u001b\\\u001b[2mtrain.py\u001b[0m\u001b]8;;\u001b\\\u001b[2m:\u001b[0m\u001b]8;id=271769;file:///Users/justinseby/Library/Python/3.9/lib/python/site-packages/scaden/train.py#84\u001b\\\u001b[2m84\u001b[0m\u001b]8;;\u001b\\\n",
      "\u001b[2K\u001b[1;34mm1024\u001b[0m \u001b[1;36mStep: 4999, Loss: 0.0016\u001b[0m \u001b[38;2;114;156;31m━━━━━━━━━━━━━━━━━━━━━━━━━━━━━━━━━━━━━━━━━━━━━━━━━\u001b[0m[38;2;249;38;114m╸\u001b[0m[38;5;237m━\u001b[0m\n",
      "\u001b[?25h\u001b[34mINFO    \u001b[0m \u001b[32mTraining finished.\u001b[0m                                          \u001b]8;id=898538;file:///Users/justinseby/Library/Python/3.9/lib/python/site-packages/scaden/train.py\u001b\\\u001b[2mtrain.py\u001b[0m\u001b]8;;\u001b\\\u001b[2m:\u001b[0m\u001b]8;id=93785;file:///Users/justinseby/Library/Python/3.9/lib/python/site-packages/scaden/train.py#98\u001b\\\u001b[2m98\u001b[0m\u001b]8;;\u001b\\\n"
     ]
    }
   ],
   "source": [
    "!scaden train \"processed.h5ad\""
   ]
  },
  {
   "cell_type": "code",
   "execution_count": 21,
   "id": "b0675abd-f3ab-463e-af67-c54aaf9b8124",
   "metadata": {},
   "outputs": [],
   "source": [
    "model_dir = os.path.expanduser(\"~/model_dir\")"
   ]
  },
  {
   "cell_type": "code",
   "execution_count": 23,
   "id": "f86b8405-b35a-44ad-a02a-a131507fba24",
   "metadata": {},
   "outputs": [
    {
     "name": "stdout",
     "output_type": "stream",
     "text": [
      "/Users/justinseby/Library/Python/3.9/lib/python/site-packages/urllib3/__init__.py:35: NotOpenSSLWarning: urllib3 v2 only supports OpenSSL 1.1.1+, currently the 'ssl' module is compiled with 'LibreSSL 2.8.3'. See: https://github.com/urllib3/urllib3/issues/3020\n",
      "  warnings.warn(\n",
      "\u001b[34m\n",
      "     ____                _            \n",
      "    / ___|  ___ __ _  __| | ___ _ __  \n",
      "    \\___ \\ / __/ _` |/ _` |/ _ \\ '_ \\ \n",
      "     ___) | (_| (_| | (_| |  __/ | | |\n",
      "    |____/ \\___\\__,_|\\__,_|\\___|_| |_|\n",
      "\n",
      "    \u001b[0m\n",
      "\u001b[1m2/2\u001b[0m \u001b[32m━━━━━━━━━━━━━━━━━━━━\u001b[0m\u001b[37m\u001b[0m \u001b[1m0s\u001b[0m 13ms/step \n",
      "\u001b[1m2/2\u001b[0m \u001b[32m━━━━━━━━━━━━━━━━━━━━\u001b[0m\u001b[37m\u001b[0m \u001b[1m0s\u001b[0m 12ms/step \n",
      "WARNING:tensorflow:5 out of the last 5 calls to <function TensorFlowTrainer.make_predict_function.<locals>.one_step_on_data_distributed at 0x36ef994c0> triggered tf.function retracing. Tracing is expensive and the excessive number of tracings could be due to (1) creating @tf.function repeatedly in a loop, (2) passing tensors with different shapes, (3) passing Python objects instead of tensors. For (1), please define your @tf.function outside of the loop. For (2), @tf.function has reduce_retracing=True option that can avoid unnecessary retracing. For (3), please refer to https://www.tensorflow.org/guide/function#controlling_retracing and https://www.tensorflow.org/api_docs/python/tf/function for  more details.\n",
      "\u001b[33mWARNING \u001b[0m \u001b[1;36m5\u001b[0m out of the last \u001b[1;36m5\u001b[0m calls to \u001b[1m<\u001b[0m\u001b[1;95mfunction\u001b[0m\u001b[39m \u001b[0m     \u001b]8;id=289816;file:///Users/justinseby/Library/Python/3.9/lib/python/site-packages/tensorflow/python/eager/polymorphic_function/polymorphic_function.py\u001b\\\u001b[2mpolymorphic_function.py\u001b[0m\u001b]8;;\u001b\\\u001b[2m:\u001b[0m\u001b]8;id=416318;file:///Users/justinseby/Library/Python/3.9/lib/python/site-packages/tensorflow/python/eager/polymorphic_function/polymorphic_function.py#157\u001b\\\u001b[2m157\u001b[0m\u001b]8;;\u001b\\\n",
      "         \u001b[39mTensorFlowTrainer.make_predict_function.<lo\u001b[0m \u001b[2m                           \u001b[0m\n",
      "         \u001b[39mcals>.one_step_on_data_distributed at \u001b[0m      \u001b[2m                           \u001b[0m\n",
      "         \u001b[1;36m0x36ef994c0\u001b[0m\u001b[1m>\u001b[0m triggered tf.function          \u001b[2m                           \u001b[0m\n",
      "         retracing. Tracing is expensive and the     \u001b[2m                           \u001b[0m\n",
      "         excessive number of tracings could be due   \u001b[2m                           \u001b[0m\n",
      "         to \u001b[1m(\u001b[0m\u001b[1;36m1\u001b[0m\u001b[1m)\u001b[0m creating @tf.function repeatedly in  \u001b[2m                           \u001b[0m\n",
      "         a loop, \u001b[1m(\u001b[0m\u001b[1;36m2\u001b[0m\u001b[1m)\u001b[0m passing tensors with different  \u001b[2m                           \u001b[0m\n",
      "         shapes, \u001b[1m(\u001b[0m\u001b[1;36m3\u001b[0m\u001b[1m)\u001b[0m passing Python objects instead  \u001b[2m                           \u001b[0m\n",
      "         of tensors. For \u001b[1m(\u001b[0m\u001b[1;36m1\u001b[0m\u001b[1m)\u001b[0m, please define your     \u001b[2m                           \u001b[0m\n",
      "         @tf.function outside of the loop. For \u001b[1m(\u001b[0m\u001b[1;36m2\u001b[0m\u001b[1m)\u001b[0m,  \u001b[2m                           \u001b[0m\n",
      "         @tf.function has \u001b[33mreduce_retracing\u001b[0m=\u001b[3;92mTrue\u001b[0m      \u001b[2m                           \u001b[0m\n",
      "         option that can avoid unnecessary           \u001b[2m                           \u001b[0m\n",
      "         retracing. For \u001b[1m(\u001b[0m\u001b[1;36m3\u001b[0m\u001b[1m)\u001b[0m, please refer to         \u001b[2m                           \u001b[0m\n",
      "         \u001b[4;94mhttps://www.tensorflow.org/guide/function#c\u001b[0m \u001b[2m                           \u001b[0m\n",
      "         \u001b[4;94montrolling_retracing\u001b[0m and                    \u001b[2m                           \u001b[0m\n",
      "         \u001b[4;94mhttps://www.tensorflow.org/api_docs/python/\u001b[0m \u001b[2m                           \u001b[0m\n",
      "         \u001b[4;94mtf/function\u001b[0m for  more details.              \u001b[2m                           \u001b[0m\n",
      "\u001b[1m1/2\u001b[0m \u001b[32m━━━━━━━━━━\u001b[0m\u001b[37m━━━━━━━━━━\u001b[0m \u001b[1m0s\u001b[0m 151ms/stepWARNING:tensorflow:6 out of the last 6 calls to <function TensorFlowTrainer.make_predict_function.<locals>.one_step_on_data_distributed at 0x36ef994c0> triggered tf.function retracing. Tracing is expensive and the excessive number of tracings could be due to (1) creating @tf.function repeatedly in a loop, (2) passing tensors with different shapes, (3) passing Python objects instead of tensors. For (1), please define your @tf.function outside of the loop. For (2), @tf.function has reduce_retracing=True option that can avoid unnecessary retracing. For (3), please refer to https://www.tensorflow.org/guide/function#controlling_retracing and https://www.tensorflow.org/api_docs/python/tf/function for  more details.\n",
      "\u001b[33mWARNING \u001b[0m \u001b[1;36m6\u001b[0m out of the last \u001b[1;36m6\u001b[0m calls to \u001b[1m<\u001b[0m\u001b[1;95mfunction\u001b[0m\u001b[39m \u001b[0m     \u001b]8;id=223834;file:///Users/justinseby/Library/Python/3.9/lib/python/site-packages/tensorflow/python/eager/polymorphic_function/polymorphic_function.py\u001b\\\u001b[2mpolymorphic_function.py\u001b[0m\u001b]8;;\u001b\\\u001b[2m:\u001b[0m\u001b]8;id=169682;file:///Users/justinseby/Library/Python/3.9/lib/python/site-packages/tensorflow/python/eager/polymorphic_function/polymorphic_function.py#157\u001b\\\u001b[2m157\u001b[0m\u001b]8;;\u001b\\\n",
      "         \u001b[39mTensorFlowTrainer.make_predict_function.<lo\u001b[0m \u001b[2m                           \u001b[0m\n",
      "         \u001b[39mcals>.one_step_on_data_distributed at \u001b[0m      \u001b[2m                           \u001b[0m\n",
      "         \u001b[1;36m0x36ef994c0\u001b[0m\u001b[1m>\u001b[0m triggered tf.function          \u001b[2m                           \u001b[0m\n",
      "         retracing. Tracing is expensive and the     \u001b[2m                           \u001b[0m\n",
      "         excessive number of tracings could be due   \u001b[2m                           \u001b[0m\n",
      "         to \u001b[1m(\u001b[0m\u001b[1;36m1\u001b[0m\u001b[1m)\u001b[0m creating @tf.function repeatedly in  \u001b[2m                           \u001b[0m\n",
      "         a loop, \u001b[1m(\u001b[0m\u001b[1;36m2\u001b[0m\u001b[1m)\u001b[0m passing tensors with different  \u001b[2m                           \u001b[0m\n",
      "         shapes, \u001b[1m(\u001b[0m\u001b[1;36m3\u001b[0m\u001b[1m)\u001b[0m passing Python objects instead  \u001b[2m                           \u001b[0m\n",
      "         of tensors. For \u001b[1m(\u001b[0m\u001b[1;36m1\u001b[0m\u001b[1m)\u001b[0m, please define your     \u001b[2m                           \u001b[0m\n",
      "         @tf.function outside of the loop. For \u001b[1m(\u001b[0m\u001b[1;36m2\u001b[0m\u001b[1m)\u001b[0m,  \u001b[2m                           \u001b[0m\n",
      "         @tf.function has \u001b[33mreduce_retracing\u001b[0m=\u001b[3;92mTrue\u001b[0m      \u001b[2m                           \u001b[0m\n",
      "         option that can avoid unnecessary           \u001b[2m                           \u001b[0m\n",
      "         retracing. For \u001b[1m(\u001b[0m\u001b[1;36m3\u001b[0m\u001b[1m)\u001b[0m, please refer to         \u001b[2m                           \u001b[0m\n",
      "         \u001b[4;94mhttps://www.tensorflow.org/guide/function#c\u001b[0m \u001b[2m                           \u001b[0m\n",
      "         \u001b[4;94montrolling_retracing\u001b[0m and                    \u001b[2m                           \u001b[0m\n",
      "         \u001b[4;94mhttps://www.tensorflow.org/api_docs/python/\u001b[0m \u001b[2m                           \u001b[0m\n",
      "         \u001b[4;94mtf/function\u001b[0m for  more details.              \u001b[2m                           \u001b[0m\n",
      "\u001b[1m2/2\u001b[0m \u001b[32m━━━━━━━━━━━━━━━━━━━━\u001b[0m\u001b[37m\u001b[0m \u001b[1m0s\u001b[0m 17ms/step \n",
      "\u001b[34mINFO    \u001b[0m \u001b[1mCreated cell composition predictions: \u001b[0m                    \u001b]8;id=489595;file:///Users/justinseby/Library/Python/3.9/lib/python/site-packages/scaden/predict.py\u001b\\\u001b[2mpredict.py\u001b[0m\u001b]8;;\u001b\\\u001b[2m:\u001b[0m\u001b]8;id=662663;file:///Users/justinseby/Library/Python/3.9/lib/python/site-packages/scaden/predict.py#81\u001b\\\u001b[2m81\u001b[0m\u001b]8;;\u001b\\\n",
      "         \u001b[1;32mscaden_predictions.txt\u001b[0m                                    \u001b[2m             \u001b[0m\n"
     ]
    }
   ],
   "source": [
    "!scaden predict --model_dir ~/model_dir processed_PDAC_normalweight_TPM.txt"
   ]
  },
  {
   "cell_type": "code",
   "execution_count": null,
   "id": "4d20c53c-65c9-4682-b1b2-ee45561f3c69",
   "metadata": {},
   "outputs": [],
   "source": []
  },
  {
   "cell_type": "code",
   "execution_count": null,
   "id": "3fe3646c-8401-4995-b437-2ca22ead6185",
   "metadata": {},
   "outputs": [],
   "source": []
  }
 ],
 "metadata": {
  "kernelspec": {
   "display_name": "Python 3 (ipykernel)",
   "language": "python",
   "name": "python3"
  },
  "language_info": {
   "codemirror_mode": {
    "name": "ipython",
    "version": 3
   },
   "file_extension": ".py",
   "mimetype": "text/x-python",
   "name": "python",
   "nbconvert_exporter": "python",
   "pygments_lexer": "ipython3",
   "version": "3.9.6"
  }
 },
 "nbformat": 4,
 "nbformat_minor": 5
}
